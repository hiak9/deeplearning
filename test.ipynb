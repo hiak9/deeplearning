{
 "cells": [
  {
   "cell_type": "code",
   "execution_count": 1,
   "metadata": {},
   "outputs": [],
   "source": [
    "import requests\n",
    "from bs4 import BeautifulSoup\n",
    "import json"
   ]
  },
  {
   "cell_type": "code",
   "execution_count": 2,
   "metadata": {},
   "outputs": [],
   "source": [
    "class show_data:\n",
    "    def __init__(self) -> None:\n",
    "        pass\n",
    "\n",
    "    def show_dblp(self, entries):\n",
    "        st.title(\"📚 DBLP 作者论文列表\")\n",
    "\n",
    "        st.write(f\"共找到 {len(entries)} 篇论文：\")\n",
    "\n",
    "        for i, entry in enumerate(entries, start=1):\n",
    "            title = entry.find('title')\n",
    "            authors = entry.find_all('author')\n",
    "            year = entry.find('year')\n",
    "            ee_tags = entry.find_all('ee')\n",
    "\n",
    "            with st.container():\n",
    "                st.markdown(f\"### {i}. {title.text if title else 'N/A'}\")\n",
    "                st.markdown(f\"👥 **作者**: {', '.join([a.text for a in authors]) if authors else 'N/A'}\")\n",
    "                st.markdown(f\"📅 **年份**: {year.text if year else 'N/A'}\")\n",
    "\n",
    "                if ee_tags:\n",
    "                    st.markdown(\"🔗 **链接：**\")\n",
    "                    for idx, ee in enumerate(ee_tags, 1):\n",
    "                        st.markdown(f\"- [{ee.text}]({ee.text})\")\n",
    "                else:\n",
    "                    st.markdown(\"🔗 **链接：** N/A\")\n",
    "\n",
    "                st.markdown(\"---\")"
   ]
  },
  {
   "cell_type": "code",
   "execution_count": 3,
   "metadata": {},
   "outputs": [],
   "source": [
    "class DBLP:\n",
    "    def __init__(self):\n",
    "        self.base_url = 'https://dblp.org/'\n",
    "        self.headers = {\n",
    "            'user-agent':'Mozilla/5.0 (Windows NT 10.0; Win64; x64) AppleWebKit/537.36 (KHTML, like Gecko) Chrome/135.0.0.0 Safari/537.36'\n",
    "        }\n",
    "\n",
    "    def get_name(self, name:str):\n",
    "        name_list = name.split(' ')\n",
    "        name_request = '+'.join(name_list)\n",
    "        search_url = self.base_url + 'search/author/api'\n",
    "        search_name_data = requests.get(search_url, params={'q':name_request, 'format': 'json'}, headers=self.headers).json()\n",
    "        \n",
    "        if_find = False\n",
    "        for hit in search_name_data['result']['hits']['hit']:\n",
    "            info = hit['info']\n",
    "            author = info['author']\n",
    "            if author == name:\n",
    "                if_find = True\n",
    "                author_url = info['url'] + '.xml'\n",
    "                author_response = requests.get(author_url, headers=self.headers)\n",
    "                soup = BeautifulSoup(author_response.text, 'xml')\n",
    "                entries = soup.find_all('r')  # 每一篇论文\n",
    "                return entries, if_find\n",
    "\n",
    "        if len(search_name_data['result']['hits']['hit']) >= 1:\n",
    "            # 如果没有找到完全匹配的作者，返回第一个作者的信息\n",
    "            info = search_name_data['result']['hits']['hit'][0]['info']\n",
    "\n",
    "            author_url = info['url'].replace('html', 'xml')\n",
    "            author_response = requests.get(author_url, headers=self.headers)\n",
    "            soup = BeautifulSoup(author_response.text, 'xml')\n",
    "            entries = soup.find_all('r')  # 每一篇论文\n",
    "            return entries, if_find\n",
    "        else:\n",
    "            # 如果没有找到任何作者，返回空列表\n",
    "            return [], if_find\n",
    "\n",
    "    def test_print(self):\n",
    "        url = 'https://dblp.org/pid/09/2187.xml'  # 换成目标作者的pid地址\n",
    "        resp = requests.get(url)\n",
    "        soup = BeautifulSoup(resp.text, 'xml')  # 用 xml 解析器！\n",
    "\n",
    "        entries = soup.find_all('r')  # 每一篇论文\n",
    "\n",
    "        for entry in entries:\n",
    "            title = entry.find('title')\n",
    "            authors = entry.find_all('author')\n",
    "            year = entry.find('year')\n",
    "\n",
    "            print(f\"标题: {title.text if title else 'N/A'}\")\n",
    "            print(f\"作者: {[a.text for a in authors]}\")\n",
    "            print(f\"年份: {year.text if year else 'N/A'}\")\n",
    "            print('-' * 40)"
   ]
  },
  {
   "cell_type": "code",
   "execution_count": 4,
   "metadata": {},
   "outputs": [],
   "source": [
    "dblp = DBLP()\n",
    "data = dblp.get_name('Ya-qin Yang')"
   ]
  },
  {
   "cell_type": "code",
   "execution_count": 5,
   "metadata": {},
   "outputs": [
    {
     "data": {
      "text/plain": [
       "[]"
      ]
     },
     "execution_count": 5,
     "metadata": {},
     "output_type": "execute_result"
    }
   ],
   "source": [
    "data[0]"
   ]
  }
 ],
 "metadata": {
  "kernelspec": {
   "display_name": "streamlit",
   "language": "python",
   "name": "python3"
  },
  "language_info": {
   "codemirror_mode": {
    "name": "ipython",
    "version": 3
   },
   "file_extension": ".py",
   "mimetype": "text/x-python",
   "name": "python",
   "nbconvert_exporter": "python",
   "pygments_lexer": "ipython3",
   "version": "3.10.16"
  },
  "orig_nbformat": 4,
  "vscode": {
   "interpreter": {
    "hash": "3d0a1ef40c71010800df77bb5045ebc6e0df6b0a8a07382e9b61df60128122ab"
   }
  }
 },
 "nbformat": 4,
 "nbformat_minor": 2
}
